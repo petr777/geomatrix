{
 "cells": [
  {
   "cell_type": "markdown",
   "metadata": {},
   "source": [
    "# Beauty letu"
   ]
  },
  {
   "cell_type": "code",
   "execution_count": 1,
   "metadata": {
    "pycharm": {
     "is_executing": false
    }
   },
   "outputs": [
    {
     "data": {
      "text/plain": "Map(center=['55.75', '37.62'], controls=(ZoomControl(options=['position', 'zoom_in_text', 'zoom_in_title', 'zo…",
      "application/vnd.jupyter.widget-view+json": {
       "version_major": 2,
       "version_minor": 0,
       "model_id": "963d2283312a41d0b5c624b94154f8c1"
      }
     },
     "metadata": {},
     "output_type": "display_data"
    }
   ],
   "source": [
    "from __future__ import print_function\n",
    "from ipywidgets import interact, interactive, fixed, interact_manual\n",
    "import ipywidgets as widgets\n",
    "from ipyleaflet import *\n",
    "\n",
    "\n",
    "def creater_marker(y,x):\n",
    "    return Marker(location=(y,x), draggable=False) \n",
    "\n",
    "def my_map(x, y):\n",
    "    center = (y, x)\n",
    "    m = Map(center=center, zoom=15, basemap=basemaps.Esri.WorldImagery)\n",
    "    marker = Marker(location=(y,x), draggable=False) \n",
    "    m.add_layer(marker)\n",
    "    return m\n",
    "\n",
    "\n",
    "map = interact(my_map, x='37.62', y =\"55.75\")"
   ]
  }
 ],
 "metadata": {
  "kernelspec": {
   "display_name": "Python 3",
   "language": "python",
   "name": "python3"
  },
  "language_info": {
   "codemirror_mode": {
    "name": "ipython",
    "version": 3
   },
   "file_extension": ".py",
   "mimetype": "text/x-python",
   "name": "python",
   "nbconvert_exporter": "python",
   "pygments_lexer": "ipython3",
   "version": "3.6.8"
  },
  "pycharm": {
   "stem_cell": {
    "cell_type": "raw",
    "source": [],
    "metadata": {
     "collapsed": false
    }
   }
  },
  "widgets": {
   "application/vnd.jupyter.widget-state+json": {
    "state": {},
    "version_major": 2.0,
    "version_minor": 0.0
   }
  }
 },
 "nbformat": 4,
 "nbformat_minor": 4
}